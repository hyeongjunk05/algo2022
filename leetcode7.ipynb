{
  "nbformat": 4,
  "nbformat_minor": 0,
  "metadata": {
    "colab": {
      "name": "leetcode7.ipynb",
      "provenance": [],
      "authorship_tag": "ABX9TyPMkN2dHd1gYd/oCQPtCzzT",
      "include_colab_link": true
    },
    "kernelspec": {
      "name": "python3",
      "display_name": "Python 3"
    },
    "language_info": {
      "name": "python"
    }
  },
  "cells": [
    {
      "cell_type": "markdown",
      "metadata": {
        "id": "view-in-github",
        "colab_type": "text"
      },
      "source": [
        "<a href=\"https://colab.research.google.com/github/hyeongjunk05/algo2022/blob/main/leetcode7.ipynb\" target=\"_parent\"><img src=\"https://colab.research.google.com/assets/colab-badge.svg\" alt=\"Open In Colab\"/></a>"
      ]
    },
    {
      "cell_type": "code",
      "execution_count": 5,
      "metadata": {
        "id": "yVg1KQczA_ud"
      },
      "outputs": [],
      "source": [
        "\n",
        "def twoSum(nums: list, target: int) -> list:\n",
        "    nums_map = {}\n",
        "    for i, num in enumerate(nums):\n",
        "        if target - num in nums_map:\n",
        "            return [nums_map[target - num], i]\n",
        "        nums_map[num] =i"
      ]
    },
    {
      "cell_type": "code",
      "source": [
        "print(twoSum([2,7,11,15], 9))"
      ],
      "metadata": {
        "colab": {
          "base_uri": "https://localhost:8080/"
        },
        "id": "5xy0XTrMBuYh",
        "outputId": "236c567b-9623-476c-cada-08eb8b33aec9"
      },
      "execution_count": 6,
      "outputs": [
        {
          "output_type": "stream",
          "name": "stdout",
          "text": [
            "[0, 1]\n"
          ]
        }
      ]
    }
  ]
}