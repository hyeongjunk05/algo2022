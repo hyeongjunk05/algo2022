{
  "nbformat": 4,
  "nbformat_minor": 0,
  "metadata": {
    "colab": {
      "name": "leetcode22.ipynb",
      "provenance": [],
      "authorship_tag": "ABX9TyPEADyFp2fkMx3g3+NZwbaI",
      "include_colab_link": true
    },
    "kernelspec": {
      "name": "python3",
      "display_name": "Python 3"
    },
    "language_info": {
      "name": "python"
    }
  },
  "cells": [
    {
      "cell_type": "markdown",
      "metadata": {
        "id": "view-in-github",
        "colab_type": "text"
      },
      "source": [
        "<a href=\"https://colab.research.google.com/github/hyeongjunk05/algo2022/blob/main/leetcode22.ipynb\" target=\"_parent\"><img src=\"https://colab.research.google.com/assets/colab-badge.svg\" alt=\"Open In Colab\"/></a>"
      ]
    },
    {
      "cell_type": "code",
      "execution_count": null,
      "metadata": {
        "id": "K536LaZcg3wW"
      },
      "outputs": [],
      "source": [
        "class Solution:\n",
        "    def dailyTemperatures(self, temperatures: List[int]) -> List[int]:\n",
        "        answer = [0] * len(temperatures)\n",
        "        stack = []\n",
        "        for i, cur in enumerate(temperatures):\n",
        "            while stack and cur > temperatures[stack[-1]]:\n",
        "                last = stack.pop()\n",
        "                answer[last] = i - last\n",
        "            stack.append(i)\n",
        "            \n",
        "        return answer\n",
        "            "
      ]
    }
  ]
}