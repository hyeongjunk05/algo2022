{
  "nbformat": 4,
  "nbformat_minor": 0,
  "metadata": {
    "colab": {
      "name": "leetcode15.ipynb",
      "provenance": [],
      "authorship_tag": "ABX9TyPMdZaC0U2mgW6OaZQ++9Rb",
      "include_colab_link": true
    },
    "kernelspec": {
      "name": "python3",
      "display_name": "Python 3"
    },
    "language_info": {
      "name": "python"
    }
  },
  "cells": [
    {
      "cell_type": "markdown",
      "metadata": {
        "id": "view-in-github",
        "colab_type": "text"
      },
      "source": [
        "<a href=\"https://colab.research.google.com/github/hyeongjunk05/algo2022/blob/main/leetcode15.ipynb\" target=\"_parent\"><img src=\"https://colab.research.google.com/assets/colab-badge.svg\" alt=\"Open In Colab\"/></a>"
      ]
    },
    {
      "cell_type": "code",
      "execution_count": 3,
      "metadata": {
        "id": "YSp73fWVo73C"
      },
      "outputs": [],
      "source": [
        "# Definition for singly-linked list.\n",
        "from typing import Optional\n",
        "\n",
        "class ListNode:\n",
        "    def __init__(self, val=0, next=None):\n",
        "        self.val = val\n",
        "        self.next = next\n",
        "class Solution:\n",
        "    def reverseList(self, head: Optional[ListNode]) -> Optional[ListNode]:\n",
        "        def reverse(node: ListNode, prev: ListNode = None):\n",
        "            if not node:\n",
        "                return prev\n",
        "            \n",
        "            next, node.next = node.next, prev\n",
        "            return reverse(next, node)\n",
        "        \n",
        "        return reverse(head)"
      ]
    }
  ]
}