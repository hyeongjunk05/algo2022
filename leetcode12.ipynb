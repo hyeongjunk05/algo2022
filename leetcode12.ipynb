{
  "nbformat": 4,
  "nbformat_minor": 0,
  "metadata": {
    "colab": {
      "name": "leetcode12.ipynb",
      "provenance": [],
      "authorship_tag": "ABX9TyOf+hubztHiH95WZLqxh0c8",
      "include_colab_link": true
    },
    "kernelspec": {
      "name": "python3",
      "display_name": "Python 3"
    },
    "language_info": {
      "name": "python"
    }
  },
  "cells": [
    {
      "cell_type": "markdown",
      "metadata": {
        "id": "view-in-github",
        "colab_type": "text"
      },
      "source": [
        "<a href=\"https://colab.research.google.com/github/hyeongjunk05/algo2022/blob/main/leetcode12.ipynb\" target=\"_parent\"><img src=\"https://colab.research.google.com/assets/colab-badge.svg\" alt=\"Open In Colab\"/></a>"
      ]
    },
    {
      "cell_type": "code",
      "execution_count": null,
      "metadata": {
        "id": "4emXzuh0ryrK"
      },
      "outputs": [],
      "source": [
        "# import sys\n",
        "\n",
        "def maxProfit(prices: list) -> int:\n",
        "    profit = 0\n",
        "    min_price = sys.maxsize\n",
        "    \n",
        "    \n",
        "    for price in prices:\n",
        "        min_price = min(min_price, price)\n",
        "        profit = max(profit, price - min_price)\n",
        "        \n",
        "    return profit"
      ]
    },
    {
      "cell_type": "code",
      "source": [
        "print(maxProfit([7,1,5,3,6,4]))"
      ],
      "metadata": {
        "colab": {
          "base_uri": "https://localhost:8080/"
        },
        "id": "-O6HRjhUTDXr",
        "outputId": "76ef1a6c-449d-479c-fef8-fea1c39c29c6"
      },
      "execution_count": null,
      "outputs": [
        {
          "output_type": "stream",
          "name": "stdout",
          "text": [
            "5\n"
          ]
        }
      ]
    }
  ]
}