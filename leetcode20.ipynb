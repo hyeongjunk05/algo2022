{
  "nbformat": 4,
  "nbformat_minor": 0,
  "metadata": {
    "colab": {
      "name": "leetcode20.ipynb",
      "provenance": [],
      "authorship_tag": "ABX9TyOKAyijBAw6iBuThgtCT//b",
      "include_colab_link": true
    },
    "kernelspec": {
      "name": "python3",
      "display_name": "Python 3"
    },
    "language_info": {
      "name": "python"
    }
  },
  "cells": [
    {
      "cell_type": "markdown",
      "metadata": {
        "id": "view-in-github",
        "colab_type": "text"
      },
      "source": [
        "<a href=\"https://colab.research.google.com/github/hyeongjunk05/algo2022/blob/main/leetcode20.ipynb\" target=\"_parent\"><img src=\"https://colab.research.google.com/assets/colab-badge.svg\" alt=\"Open In Colab\"/></a>"
      ]
    },
    {
      "cell_type": "code",
      "execution_count": null,
      "metadata": {
        "id": "YQb7J2V3pZjs"
      },
      "outputs": [],
      "source": [
        "class Solution:\n",
        "    def isValid(self, s: str) -> bool:\n",
        "        stack = []\n",
        "        \n",
        "        table = {\n",
        "            ')':'(',\n",
        "            '}':'{',\n",
        "            ']':'[',\n",
        "        }\n",
        "        \n",
        "        for char in s:\n",
        "            if char not in table:\n",
        "                stack.append(char)\n",
        "                \n",
        "            elif not stack or table[char] != stack.pop():\n",
        "                return False\n",
        "            \n",
        "        return len(stack) == 0\n",
        "            "
      ]
    }
  ]
}