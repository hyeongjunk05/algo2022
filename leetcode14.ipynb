{
  "nbformat": 4,
  "nbformat_minor": 0,
  "metadata": {
    "colab": {
      "name": "leetcode14.ipynb",
      "provenance": [],
      "authorship_tag": "ABX9TyPYKItJAS3eHktw4BmwvFBd",
      "include_colab_link": true
    },
    "kernelspec": {
      "name": "python3",
      "display_name": "Python 3"
    },
    "language_info": {
      "name": "python"
    }
  },
  "cells": [
    {
      "cell_type": "markdown",
      "metadata": {
        "id": "view-in-github",
        "colab_type": "text"
      },
      "source": [
        "<a href=\"https://colab.research.google.com/github/hyeongjunk05/algo2022/blob/main/leetcode14.ipynb\" target=\"_parent\"><img src=\"https://colab.research.google.com/assets/colab-badge.svg\" alt=\"Open In Colab\"/></a>"
      ]
    },
    {
      "cell_type": "code",
      "execution_count": 11,
      "metadata": {
        "id": "OUlF6HmQi6XA"
      },
      "outputs": [],
      "source": [
        "from typing import Optional\n",
        "\n",
        "class ListNode:\n",
        "    def __init__(self, val=0, next=None):\n",
        "        self.val = val\n",
        "        self.next = next\n",
        "\n",
        "def mergeTwoLists(list1: Optional[ListNode], list2: Optional[ListNode]) -> Optional[ListNode]:\n",
        "    if (not list1) or (list2 and list1.val > list2.val):\n",
        "        list1, list2 = list2, list1\n",
        "        \n",
        "    if list1:\n",
        "        list1.next = mergeTwoLists(list1.next, list2)\n",
        "        \n",
        "    return list1\n",
        "    "
      ]
    },
    {
      "cell_type": "code",
      "source": [
        "print(mergeTwoLists([1,2,4]\n",
        "[1,3,4]))"
      ],
      "metadata": {
        "colab": {
          "base_uri": "https://localhost:8080/",
          "height": 193
        },
        "id": "5WsNNdNomqiw",
        "outputId": "ea9d5e67-e96a-42c8-9ffe-a1df5c99974e"
      },
      "execution_count": 10,
      "outputs": [
        {
          "output_type": "error",
          "ename": "TypeError",
          "evalue": "ignored",
          "traceback": [
            "\u001b[0;31m---------------------------------------------------------------------------\u001b[0m",
            "\u001b[0;31mTypeError\u001b[0m                                 Traceback (most recent call last)",
            "\u001b[0;32m<ipython-input-10-0ce3f857cf09>\u001b[0m in \u001b[0;36m<module>\u001b[0;34m()\u001b[0m\n\u001b[1;32m      1\u001b[0m print(mergeTwoLists([1,2,4]\n\u001b[0;32m----> 2\u001b[0;31m [1,3,4]))\n\u001b[0m",
            "\u001b[0;31mTypeError\u001b[0m: list indices must be integers or slices, not tuple"
          ]
        }
      ]
    }
  ]
}