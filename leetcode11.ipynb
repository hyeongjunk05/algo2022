{
  "nbformat": 4,
  "nbformat_minor": 0,
  "metadata": {
    "colab": {
      "name": "leetcode11.ipynb",
      "provenance": [],
      "authorship_tag": "ABX9TyMZggq4qnzfmIOw0MX1+Wy+",
      "include_colab_link": true
    },
    "kernelspec": {
      "name": "python3",
      "display_name": "Python 3"
    },
    "language_info": {
      "name": "python"
    }
  },
  "cells": [
    {
      "cell_type": "markdown",
      "metadata": {
        "id": "view-in-github",
        "colab_type": "text"
      },
      "source": [
        "<a href=\"https://colab.research.google.com/github/hyeongjunk05/algo2022/blob/main/leetcode11.ipynb\" target=\"_parent\"><img src=\"https://colab.research.google.com/assets/colab-badge.svg\" alt=\"Open In Colab\"/></a>"
      ]
    },
    {
      "cell_type": "code",
      "execution_count": 1,
      "metadata": {
        "id": "hqjO6-_NIYhX"
      },
      "outputs": [],
      "source": [
        "\n",
        "def productExceptSelf(nums: list) -> list:\n",
        "    out = []\n",
        "    p  =1\n",
        "    for i in range(0, len(nums)):\n",
        "        out.append(p)\n",
        "        p = p * nums[i]\n",
        "        \n",
        "    p = 1\n",
        "    \n",
        "    for i in range(len(nums) - 1, 0 - 1, -1):\n",
        "        out[i] = out[i] * p\n",
        "        p = p * nums[i]\n",
        "        \n",
        "    return out"
      ]
    },
    {
      "cell_type": "code",
      "source": [
        "productExceptSelf([1,2,3,4])"
      ],
      "metadata": {
        "colab": {
          "base_uri": "https://localhost:8080/"
        },
        "id": "Zpe-tDCCMVyC",
        "outputId": "4e75e33a-2c4a-4120-cbb7-21d4ab0850e1"
      },
      "execution_count": 2,
      "outputs": [
        {
          "output_type": "execute_result",
          "data": {
            "text/plain": [
              "[24, 12, 8, 6]"
            ]
          },
          "metadata": {},
          "execution_count": 2
        }
      ]
    }
  ]
}