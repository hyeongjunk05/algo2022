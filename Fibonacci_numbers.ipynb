{
  "nbformat": 4,
  "nbformat_minor": 0,
  "metadata": {
    "colab": {
      "name": "Fibonacci numbers.ipynb",
      "provenance": [],
      "authorship_tag": "ABX9TyOBDt6R9+PAEYkdWGSFqvy+",
      "include_colab_link": true
    },
    "kernelspec": {
      "name": "python3",
      "display_name": "Python 3"
    },
    "language_info": {
      "name": "python"
    }
  },
  "cells": [
    {
      "cell_type": "markdown",
      "metadata": {
        "id": "view-in-github",
        "colab_type": "text"
      },
      "source": [
        "<a href=\"https://colab.research.google.com/github/hyeongjunk05/algo2022/blob/main/Fibonacci_numbers.ipynb\" target=\"_parent\"><img src=\"https://colab.research.google.com/assets/colab-badge.svg\" alt=\"Open In Colab\"/></a>"
      ]
    },
    {
      "cell_type": "code",
      "execution_count": 1,
      "metadata": {
        "colab": {
          "base_uri": "https://localhost:8080/"
        },
        "id": "DX8tiuLXLv3A",
        "outputId": "22d3055c-66c1-429b-d6d5-71cca3036f20"
      },
      "outputs": [
        {
          "output_type": "stream",
          "name": "stdout",
          "text": [
            "3\n"
          ]
        }
      ],
      "source": [
        "def fibo(x):\n",
        "    if x == 1 or x == 2:\n",
        "        return 1\n",
        "    return fibo(x - 1) + fibo(x - 2)\n",
        "\n",
        "print(fibo(4))\n",
        "\n",
        "# https://velog.io/@kimdukbae/%EB%8B%A4%EC%9D%B4%EB%82%98%EB%AF%B9-%ED%94%84%EB%A1%9C%EA%B7%B8%EB%9E%98%EB%B0%8D-Dynamic-Programming"
      ]
    },
    {
      "cell_type": "code",
      "source": [
        "# 메모이제이션하기 위한 리스트 초기화\n",
        "memoization = [0] * 100\n",
        "# print(memoization)\n",
        "# print(memoization.count(0)) # 100\n",
        "from collections import Counter\n",
        "print(Counter(memoization)) #much faster than .count(0) https://stackoverflow.com/questions/2600191/how-do-i-count-the-occurrences-of-a-list-item\n",
        "\n",
        "# >>> z = ['blue', 'red', 'blue', 'yellow', 'blue', 'red']\n",
        "# >>> Counter(z)\n",
        "# Counter({'blue': 3, 'red': 2, 'yellow': 1})\n",
        "\n",
        "\n",
        "# 피보나치 함수를 재귀함수로 구현 (Top-down DP)\n",
        "def fibo(x):\n",
        "    if x == 1 or x == 2:\n",
        "        return 1\n",
        "    # 이미 계산한 적 있으면 그대로 반환\n",
        "    if memoization[x] != 0:\n",
        "        return memoization[x]\n",
        "    # 계산한 적 없으면 점화식에 따라 피보나치 결과 반환\n",
        "    memoization[x] = fibo(x - 1) + fibo(x - 2)\n",
        "    return memoization[x]\n",
        "\n",
        "\n",
        "# print(fibo(6))"
      ],
      "metadata": {
        "colab": {
          "base_uri": "https://localhost:8080/"
        },
        "id": "zckjKjNeNmpI",
        "outputId": "57eb7dfc-a0f3-4a67-d638-a3d8e1561962"
      },
      "execution_count": 12,
      "outputs": [
        {
          "output_type": "stream",
          "name": "stdout",
          "text": [
            "Counter({0: 100})\n"
          ]
        }
      ]
    },
    {
      "cell_type": "code",
      "source": [
        "# 앞서 계산된 결과를 저장하기 위한 DP 테이블 초기화\n",
        "dp = [0] * 100\n",
        "dp[1] = 1\n",
        "dp[2] = 1\n",
        "n = 99\n",
        "\n",
        "# 피보나치 수열 반복문으로 구현(Bottom-Up DP)\n",
        "for i in range(3, n + 1):\n",
        "    dp[i] = dp[i - 1] + dp[i - 2]\n",
        "\n",
        "print(dp[5])"
      ],
      "metadata": {
        "colab": {
          "base_uri": "https://localhost:8080/"
        },
        "id": "A84xfyzNWfrr",
        "outputId": "7fcaa5c3-6c44-4463-a9e1-e0c6d77a87db"
      },
      "execution_count": 5,
      "outputs": [
        {
          "output_type": "stream",
          "name": "stdout",
          "text": [
            "5\n"
          ]
        }
      ]
    }
  ]
}