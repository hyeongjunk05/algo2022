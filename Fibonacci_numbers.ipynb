{
  "nbformat": 4,
  "nbformat_minor": 0,
  "metadata": {
    "colab": {
      "name": "Fibonacci numbers.ipynb",
      "provenance": [],
      "authorship_tag": "ABX9TyPtn7FdLp7Lw3QyBj5a8jvB",
      "include_colab_link": true
    },
    "kernelspec": {
      "name": "python3",
      "display_name": "Python 3"
    },
    "language_info": {
      "name": "python"
    }
  },
  "cells": [
    {
      "cell_type": "markdown",
      "metadata": {
        "id": "view-in-github",
        "colab_type": "text"
      },
      "source": [
        "<a href=\"https://colab.research.google.com/github/hyeongjunk05/algo2022/blob/main/Fibonacci_numbers.ipynb\" target=\"_parent\"><img src=\"https://colab.research.google.com/assets/colab-badge.svg\" alt=\"Open In Colab\"/></a>"
      ]
    },
    {
      "cell_type": "code",
      "execution_count": 1,
      "metadata": {
        "colab": {
          "base_uri": "https://localhost:8080/"
        },
        "id": "DX8tiuLXLv3A",
        "outputId": "22d3055c-66c1-429b-d6d5-71cca3036f20"
      },
      "outputs": [
        {
          "output_type": "stream",
          "name": "stdout",
          "text": [
            "3\n"
          ]
        }
      ],
      "source": [
        "def fibo(x):\n",
        "    if x == 1 or x == 2:\n",
        "        return 1\n",
        "    return fibo(x - 1) + fibo(x - 2)\n",
        "\n",
        "print(fibo(4))\n",
        "\n",
        "# https://velog.io/@kimdukbae/%EB%8B%A4%EC%9D%B4%EB%82%98%EB%AF%B9-%ED%94%84%EB%A1%9C%EA%B7%B8%EB%9E%98%EB%B0%8D-Dynamic-Programming"
      ]
    },
    {
      "cell_type": "code",
      "source": [
        "# 메모이제이션하기 위한 리스트 초기화\n",
        "memoization = [0] * 100\n",
        "print(memoization)\n",
        "\n",
        "\n",
        "# 피보나치 함수를 재귀함수로 구현 (Top-down DP)\n",
        "def fibo(x):\n",
        "    if x == 1 or x == 2:\n",
        "        return 1\n",
        "    # 이미 계산한 적 있으면 그대로 반환\n",
        "    if memoization[x] != 0:\n",
        "        return memoization[x]\n",
        "    # 계산한 적 없으면 점화식에 따라 피보나치 결과 반환\n",
        "    memoization[x] = fibo(x - 1) + fibo(x - 2)\n",
        "    return memoization[x]\n",
        "\n",
        "\n",
        "print(fibo(6))"
      ],
      "metadata": {
        "colab": {
          "base_uri": "https://localhost:8080/"
        },
        "id": "zckjKjNeNmpI",
        "outputId": "5fc13c30-ace5-49b9-9368-5ea20bda83d7"
      },
      "execution_count": 3,
      "outputs": [
        {
          "output_type": "stream",
          "name": "stdout",
          "text": [
            "[0, 0, 0, 0, 0, 0, 0, 0, 0, 0, 0, 0, 0, 0, 0, 0, 0, 0, 0, 0, 0, 0, 0, 0, 0, 0, 0, 0, 0, 0, 0, 0, 0, 0, 0, 0, 0, 0, 0, 0, 0, 0, 0, 0, 0, 0, 0, 0, 0, 0, 0, 0, 0, 0, 0, 0, 0, 0, 0, 0, 0, 0, 0, 0, 0, 0, 0, 0, 0, 0, 0, 0, 0, 0, 0, 0, 0, 0, 0, 0, 0, 0, 0, 0, 0, 0, 0, 0, 0, 0, 0, 0, 0, 0, 0, 0, 0, 0, 0, 0]\n",
            "8\n"
          ]
        }
      ]
    }
  ]
}