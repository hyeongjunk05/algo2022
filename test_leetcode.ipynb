{
  "nbformat": 4,
  "nbformat_minor": 0,
  "metadata": {
    "colab": {
      "name": "test_leetcode.ipynb",
      "provenance": [],
      "authorship_tag": "ABX9TyPHwwQsBYLAXhXiWhB7UNlf",
      "include_colab_link": true
    },
    "kernelspec": {
      "name": "python3",
      "display_name": "Python 3"
    },
    "language_info": {
      "name": "python"
    }
  },
  "cells": [
    {
      "cell_type": "markdown",
      "metadata": {
        "id": "view-in-github",
        "colab_type": "text"
      },
      "source": [
        "<a href=\"https://colab.research.google.com/github/hyeongjunk05/algo2022/blob/main/test_leetcode.ipynb\" target=\"_parent\"><img src=\"https://colab.research.google.com/assets/colab-badge.svg\" alt=\"Open In Colab\"/></a>"
      ]
    },
    {
      "cell_type": "code",
      "execution_count": 6,
      "metadata": {
        "colab": {
          "base_uri": "https://localhost:8080/"
        },
        "id": "D7aHoqBZff6R",
        "outputId": "c6afcc2e-68c3-458b-8621-6d031c90f4db"
      },
      "outputs": [
        {
          "output_type": "stream",
          "name": "stdout",
          "text": [
            "1\n",
            "None\n"
          ]
        }
      ],
      "source": [
        "#Node 정의\n",
        "class Node:\n",
        "    def __init__(self, data, next=None):  #data 만 입력시 next 초기값은 None이다.\n",
        "        self.data = data #다음 데이터 주소 초기값 = None\n",
        "        self.next = next\n",
        "\n",
        "\n",
        "#Node 생성해보기(data = 1)\n",
        "node1 = Node(1)\n",
        "\n",
        "#Node의 값과 포인터 출력하기\n",
        "print(node1.data)\n",
        "print(node1.next)\n",
        "# 출처: https://ybworld.tistory.com/85 [투손플레이스:티스토리]"
      ]
    },
    {
      "cell_type": "code",
      "source": [
        "#Node1 생성해보기\n",
        "node1 = Node(1)\n",
        "#Node2 생성해보기\n",
        "node2 = Node(3)\n",
        "#Node 연결하기\n",
        "node1.next = node2\n",
        "#가장 맨 앞 Node를 알기 위해 head 지정\n",
        "head = node1\n",
        "\n",
        "#node1을 통해 연결한 결과 확인(밑에 2줄은 동일한 결과를 가리킨다)\n",
        "print(node1.next.data)\n",
        "print(node2.data)\n",
        "# 출처: https://ybworld.tistory.com/85 [투손플레이스:티스토리]"
      ],
      "metadata": {
        "colab": {
          "base_uri": "https://localhost:8080/"
        },
        "id": "0ngJUsJYgAeo",
        "outputId": "8cbbc5dd-d17a-44f0-a08c-0fd52ff0a8ab"
      },
      "execution_count": 7,
      "outputs": [
        {
          "output_type": "stream",
          "name": "stdout",
          "text": [
            "3\n",
            "3\n"
          ]
        }
      ]
    },
    {
      "cell_type": "code",
      "source": [
        "#Node 정의\n",
        "class Node:\n",
        "    def __init__(self, data, next=None):  #data 만 입력시 next 초기값은 None이다.\n",
        "        self.data = data #다음 데이터 주소 초기값 = None\n",
        "        self.next = next\n",
        "# print(head)\n",
        "def add(data):\n",
        "    node = head\n",
        "    print(head.data)\n",
        "    print(head.next)\n",
        "    while node.next: #node의 next가 있을 경우만 실행\n",
        "        node = node.next #다음 노드가 있는지 계속 반복\n",
        "    node.next = Node(data) #다음 노드가 없을 경우 루프를 빠져나와 새로운 노드 생성\n",
        "\n",
        "#Node1 생성해보기\n",
        "node1 = Node(1)\n",
        "#가장 맨 앞 Node를 알기 위해 head 지정\n",
        "head = node1\n",
        "#add 함수 통해 신규 노드 추가하기\n",
        "add(3)\n",
        "#추가한 값을 node1 통해 next로 출력해보기\n",
        "# print(node1.next.data)\n",
        "\n",
        "# 출처: https://ybworld.tistory.com/85 [투손플레이스:티스토리]"
      ],
      "metadata": {
        "colab": {
          "base_uri": "https://localhost:8080/"
        },
        "id": "HUeL05cUgaGJ",
        "outputId": "2b5d3d29-19b8-4df5-efcd-181ca21cdec6"
      },
      "execution_count": 2,
      "outputs": [
        {
          "output_type": "stream",
          "name": "stdout",
          "text": [
            "1\n",
            "None\n"
          ]
        }
      ]
    }
  ]
}