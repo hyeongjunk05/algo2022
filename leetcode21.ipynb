{
  "nbformat": 4,
  "nbformat_minor": 0,
  "metadata": {
    "colab": {
      "name": "leetcode21.ipynb",
      "provenance": [],
      "authorship_tag": "ABX9TyOxTy8FwhA19WKjRyXnUOoO",
      "include_colab_link": true
    },
    "kernelspec": {
      "name": "python3",
      "display_name": "Python 3"
    },
    "language_info": {
      "name": "python"
    }
  },
  "cells": [
    {
      "cell_type": "markdown",
      "metadata": {
        "id": "view-in-github",
        "colab_type": "text"
      },
      "source": [
        "<a href=\"https://colab.research.google.com/github/hyeongjunk05/algo2022/blob/main/leetcode21.ipynb\" target=\"_parent\"><img src=\"https://colab.research.google.com/assets/colab-badge.svg\" alt=\"Open In Colab\"/></a>"
      ]
    },
    {
      "cell_type": "code",
      "execution_count": null,
      "metadata": {
        "id": "7CG-jkYNBnY9"
      },
      "outputs": [],
      "source": [
        "class Solution:\n",
        "    def removeDuplicateLetters(self, s: str) -> str:\n",
        "        for char in sorted(set(s)):\n",
        "            suffix = s[s.index(char):]\n",
        "            if set(s) == set(suffix):\n",
        "                return char + self.removeDuplicateLetters(suffix.replace(char, ''))\n",
        "        return ''"
      ]
    }
  ]
}