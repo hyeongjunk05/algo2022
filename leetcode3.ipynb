{
  "nbformat": 4,
  "nbformat_minor": 0,
  "metadata": {
    "colab": {
      "name": "leetcode3.ipynb",
      "provenance": [],
      "authorship_tag": "ABX9TyMuwNWFYJvKy0i+a5KYx4so",
      "include_colab_link": true
    },
    "kernelspec": {
      "name": "python3",
      "display_name": "Python 3"
    },
    "language_info": {
      "name": "python"
    }
  },
  "cells": [
    {
      "cell_type": "markdown",
      "metadata": {
        "id": "view-in-github",
        "colab_type": "text"
      },
      "source": [
        "<a href=\"https://colab.research.google.com/github/hyeongjunk05/algo2022/blob/main/leetcode3.ipynb\" target=\"_parent\"><img src=\"https://colab.research.google.com/assets/colab-badge.svg\" alt=\"Open In Colab\"/></a>"
      ]
    },
    {
      "cell_type": "code",
      "execution_count": 2,
      "metadata": {
        "id": "ktZYY7PLP7LP"
      },
      "outputs": [],
      "source": [
        "dim = [\"dig1 8 1 5 1\",\"let1 art can\",\"dig2 3 6\",\"let2 own kit dig\",\"let3 art zero\"]"
      ]
    },
    {
      "cell_type": "code",
      "source": [
        "def reorderLogFiles(logs: list) -> list:\n",
        "    letters, digits = [], []\n",
        "    for log in logs:\n",
        "        if log.split()[1].isdigit():\n",
        "            digits.append(log)\n",
        "        else:\n",
        "            letters.append(log)\n",
        "            \n",
        "    letters.sort(key=lambda x: (x.split()[1:], x.split()[0]))\n",
        "    return letters + digits\n",
        "\n",
        "print(reorderLogFiles(dim))"
      ],
      "metadata": {
        "colab": {
          "base_uri": "https://localhost:8080/"
        },
        "id": "6djXgXgxQDOo",
        "outputId": "e599c186-96bc-4778-8bc9-e780a5550fed"
      },
      "execution_count": 7,
      "outputs": [
        {
          "output_type": "stream",
          "name": "stdout",
          "text": [
            "['let1 art can', 'let3 art zero', 'let2 own kit dig', 'dig1 8 1 5 1', 'dig2 3 6']\n"
          ]
        }
      ]
    }
  ]
}