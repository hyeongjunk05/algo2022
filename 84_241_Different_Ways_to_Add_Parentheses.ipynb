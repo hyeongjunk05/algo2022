{
  "nbformat": 4,
  "nbformat_minor": 0,
  "metadata": {
    "colab": {
      "provenance": [],
      "authorship_tag": "ABX9TyNNT074jWpD7juXUqHt2kKZ",
      "include_colab_link": true
    },
    "kernelspec": {
      "name": "python3",
      "display_name": "Python 3"
    },
    "language_info": {
      "name": "python"
    }
  },
  "cells": [
    {
      "cell_type": "markdown",
      "metadata": {
        "id": "view-in-github",
        "colab_type": "text"
      },
      "source": [
        "<a href=\"https://colab.research.google.com/github/hyeongjunk05/algo2022/blob/main/84_241_Different_Ways_to_Add_Parentheses.ipynb\" target=\"_parent\"><img src=\"https://colab.research.google.com/assets/colab-badge.svg\" alt=\"Open In Colab\"/></a>"
      ]
    },
    {
      "cell_type": "code",
      "execution_count": null,
      "metadata": {
        "id": "tl1LnHDZrR0-"
      },
      "outputs": [],
      "source": [
        "class Solution:\n",
        "    def diffWaysToCompute(self, expression: str) -> List[int]:\n",
        "        def compute(left, right, op):\n",
        "            results = []\n",
        "            for l in left:\n",
        "                for r in right:\n",
        "                    results.append(eval(str(l) + op + str(r)))\n",
        "            return results\n",
        "        if expression.isdigit():\n",
        "            return [int(expression)]\n",
        "        \n",
        "        results = []\n",
        "        for index, value in enumerate(expression):\n",
        "            if value in \"-+*\":\n",
        "                left = self.diffWaysToCompute(expression[:index])\n",
        "                right = self.diffWaysToCompute(expression[index + 1:])\n",
        "                \n",
        "                results.extend(compute(left, right, value))\n",
        "                \n",
        "        return results\n",
        "            "
      ]
    }
  ]
}