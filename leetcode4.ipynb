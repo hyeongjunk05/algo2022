{
  "nbformat": 4,
  "nbformat_minor": 0,
  "metadata": {
    "colab": {
      "name": "leetcode4.ipynb",
      "provenance": [],
      "authorship_tag": "ABX9TyM4Rq9LlNP4jYyj3Ti05OZi",
      "include_colab_link": true
    },
    "kernelspec": {
      "name": "python3",
      "display_name": "Python 3"
    },
    "language_info": {
      "name": "python"
    }
  },
  "cells": [
    {
      "cell_type": "markdown",
      "metadata": {
        "id": "view-in-github",
        "colab_type": "text"
      },
      "source": [
        "<a href=\"https://colab.research.google.com/github/hyeongjunk05/algo2022/blob/main/leetcode4.ipynb\" target=\"_parent\"><img src=\"https://colab.research.google.com/assets/colab-badge.svg\" alt=\"Open In Colab\"/></a>"
      ]
    },
    {
      "cell_type": "code",
      "execution_count": 11,
      "metadata": {
        "id": "zD6s4DGSna_L"
      },
      "outputs": [],
      "source": [
        "import collections\n",
        "\n",
        "def mostCommonWord(paragraph: str, banned: list) -> str:\n",
        "    words = [word for word in re.sub(r'[^\\w]', ' ', paragraph)\n",
        "            .lower().split()\n",
        "                if word not in banned]\n",
        "    \n",
        "    counts = collections.Counter(words)\n",
        "    return counts.most_common(1)[0][0]\n",
        "      "
      ]
    },
    {
      "cell_type": "code",
      "source": [
        "print(mostCommonWord(\"Bob hit a ball, the hit BALL flew far after it was hit.\", [\"hit\"]))"
      ],
      "metadata": {
        "colab": {
          "base_uri": "https://localhost:8080/"
        },
        "id": "t4izaf9mnodW",
        "outputId": "ca4e08a4-7389-45cb-965e-fcbc45a741f3"
      },
      "execution_count": 12,
      "outputs": [
        {
          "output_type": "stream",
          "name": "stdout",
          "text": [
            "ball\n"
          ]
        }
      ]
    }
  ]
}