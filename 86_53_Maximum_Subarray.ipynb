{
  "nbformat": 4,
  "nbformat_minor": 0,
  "metadata": {
    "colab": {
      "name": "86_53_Maximum Subarray.ipynb",
      "provenance": [],
      "collapsed_sections": [],
      "authorship_tag": "ABX9TyMreuG43m+ZJf9ltmmTkp4m",
      "include_colab_link": true
    },
    "kernelspec": {
      "name": "python3",
      "display_name": "Python 3"
    },
    "language_info": {
      "name": "python"
    }
  },
  "cells": [
    {
      "cell_type": "markdown",
      "metadata": {
        "id": "view-in-github",
        "colab_type": "text"
      },
      "source": [
        "<a href=\"https://colab.research.google.com/github/hyeongjunk05/algo2022/blob/main/86_53_Maximum_Subarray.ipynb\" target=\"_parent\"><img src=\"https://colab.research.google.com/assets/colab-badge.svg\" alt=\"Open In Colab\"/></a>"
      ]
    },
    {
      "cell_type": "code",
      "execution_count": 6,
      "metadata": {
        "colab": {
          "base_uri": "https://localhost:8080/"
        },
        "id": "8qwl0jEmdAYY",
        "outputId": "99337f76-9340-4f46-fa7a-fb1db0bb6554"
      },
      "outputs": [
        {
          "output_type": "stream",
          "name": "stdout",
          "text": [
            "6\n"
          ]
        }
      ],
      "source": [
        "# p 636\n",
        "\n",
        "# memoization\n",
        "\n",
        "# Definition for singly-linked list.\n",
        "from typing import List\n",
        "\n",
        "\n",
        "def maxSubArray(nums: List[int]) -> int:\n",
        "    for i in range(1, len(nums)):\n",
        "        nums[i] += nums[i - 1] if nums[i - 1] > 0 else 0\n",
        "    return max(nums)\n",
        "\n",
        "\n",
        "print(maxSubArray([-2,1,-3,4,-1,2,1,-5,4]))\n"
      ]
    },
    {
      "cell_type": "code",
      "source": [
        "# Kadane's Algorithm\n",
        "import sys\n",
        "\n",
        "def maxSubArray2(nums: List[int]) -> int:\n",
        "    best_sum = -sys.maxsize\n",
        "    current_sum = 0\n",
        "    for num in nums:\n",
        "        current_sum = max(num, current_sum + num)\n",
        "        best_sum = max(best_sum, current_sum)\n",
        "        \n",
        "    return best_sum\n",
        "print(maxSubArray2([-2,1,-3,4,-1,2,1,-5,4]))"
      ],
      "metadata": {
        "id": "OwmGyBg2e9DF",
        "colab": {
          "base_uri": "https://localhost:8080/"
        },
        "outputId": "2685c3ad-bac0-4071-a44d-3efee9267b74"
      },
      "execution_count": 8,
      "outputs": [
        {
          "output_type": "stream",
          "name": "stdout",
          "text": [
            "6\n"
          ]
        }
      ]
    }
  ]
}