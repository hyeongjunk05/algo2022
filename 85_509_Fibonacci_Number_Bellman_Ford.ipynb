{
  "nbformat": 4,
  "nbformat_minor": 0,
  "metadata": {
    "colab": {
      "name": "85_509_Fibonacci Number_Bellman Ford.ipynb",
      "provenance": [],
      "authorship_tag": "ABX9TyNOzgRhThsQtSPpK0/e0r/f",
      "include_colab_link": true
    },
    "kernelspec": {
      "name": "python3",
      "display_name": "Python 3"
    },
    "language_info": {
      "name": "python"
    }
  },
  "cells": [
    {
      "cell_type": "markdown",
      "metadata": {
        "id": "view-in-github",
        "colab_type": "text"
      },
      "source": [
        "<a href=\"https://colab.research.google.com/github/hyeongjunk05/algo2022/blob/main/85_509_Fibonacci_Number_Bellman_Ford.ipynb\" target=\"_parent\"><img src=\"https://colab.research.google.com/assets/colab-badge.svg\" alt=\"Open In Colab\"/></a>"
      ]
    },
    {
      "cell_type": "code",
      "execution_count": null,
      "metadata": {
        "id": "FWSEgP5oaGjD"
      },
      "outputs": [],
      "source": [
        "# page 372, 621"
      ]
    },
    {
      "cell_type": "code",
      "source": [
        "# Brute Force\n",
        "class Solution:\n",
        "    def fib(self, n: int) -> int:\n",
        "        if n <= 1:\n",
        "            return n\n",
        "        return self.fib(n-1)+ self.fib(n-2)"
      ],
      "metadata": {
        "id": "mHuLWjfLSaxl"
      },
      "execution_count": 1,
      "outputs": []
    },
    {
      "cell_type": "code",
      "source": [
        "test = Solution()\n",
        "print(test.fib(0))\n",
        "print(test.fib(1))\n",
        "print(test.fib(2))\n",
        "print(test.fib(3))"
      ],
      "metadata": {
        "colab": {
          "base_uri": "https://localhost:8080/"
        },
        "id": "Mlvl2lQ7UlN-",
        "outputId": "878da92e-f57d-4deb-92b5-d330951d1203"
      },
      "execution_count": 4,
      "outputs": [
        {
          "output_type": "stream",
          "name": "stdout",
          "text": [
            "0\n",
            "1\n",
            "1\n",
            "2\n"
          ]
        }
      ]
    },
    {
      "cell_type": "code",
      "source": [
        "# Memoization\n",
        "import collections\n",
        "\n",
        "class Solution2:\n",
        "  dp = collections.defaultdict(int)\n",
        "\n",
        "  def fib(self, N: int) -> int:\n",
        "    if N <= 1:\n",
        "      return N\n",
        "\n",
        "    if self.dp[N]:\n",
        "      return self.dp[N]\n",
        "\n",
        "    self.dp[N] = self.fib(N - 1) + self.fib(N - 2)\n",
        "    return self.dp[N]\n",
        "\n",
        "test2 = Solution2()\n",
        "print(test2.fib(3))"
      ],
      "metadata": {
        "colab": {
          "base_uri": "https://localhost:8080/"
        },
        "id": "EN_utOF2U5cJ",
        "outputId": "45574708-b82b-4a4b-df03-b1b47f02d1ad"
      },
      "execution_count": 8,
      "outputs": [
        {
          "output_type": "stream",
          "name": "stdout",
          "text": [
            "2\n"
          ]
        }
      ]
    }
  ]
}