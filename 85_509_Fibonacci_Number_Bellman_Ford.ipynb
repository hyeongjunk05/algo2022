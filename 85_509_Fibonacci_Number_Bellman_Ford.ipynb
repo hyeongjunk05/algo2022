{
  "nbformat": 4,
  "nbformat_minor": 0,
  "metadata": {
    "colab": {
      "name": "85_509_Fibonacci Number_Bellman Ford.ipynb",
      "provenance": [],
      "authorship_tag": "ABX9TyNt3sgn7/TXa46jCgv5BruM",
      "include_colab_link": true
    },
    "kernelspec": {
      "name": "python3",
      "display_name": "Python 3"
    },
    "language_info": {
      "name": "python"
    }
  },
  "cells": [
    {
      "cell_type": "markdown",
      "metadata": {
        "id": "view-in-github",
        "colab_type": "text"
      },
      "source": [
        "<a href=\"https://colab.research.google.com/github/hyeongjunk05/algo2022/blob/main/85_509_Fibonacci_Number_Bellman_Ford.ipynb\" target=\"_parent\"><img src=\"https://colab.research.google.com/assets/colab-badge.svg\" alt=\"Open In Colab\"/></a>"
      ]
    },
    {
      "cell_type": "code",
      "execution_count": null,
      "metadata": {
        "id": "FWSEgP5oaGjD"
      },
      "outputs": [],
      "source": [
        "# page 372, 621"
      ]
    },
    {
      "cell_type": "code",
      "source": [
        "# Brute Force\n",
        "class Solution:\n",
        "    def fib(self, n: int) -> int:\n",
        "        if n <= 1:\n",
        "            return n\n",
        "        return self.fib(n-1)+ self.fib(n-2)"
      ],
      "metadata": {
        "id": "mHuLWjfLSaxl"
      },
      "execution_count": 1,
      "outputs": []
    },
    {
      "cell_type": "code",
      "source": [
        "test = Solution()\n",
        "print(test.fib(0))\n",
        "print(test.fib(1))\n",
        "print(test.fib(2))\n",
        "print(test.fib(3))"
      ],
      "metadata": {
        "colab": {
          "base_uri": "https://localhost:8080/"
        },
        "id": "Mlvl2lQ7UlN-",
        "outputId": "878da92e-f57d-4deb-92b5-d330951d1203"
      },
      "execution_count": 4,
      "outputs": [
        {
          "output_type": "stream",
          "name": "stdout",
          "text": [
            "0\n",
            "1\n",
            "1\n",
            "2\n"
          ]
        }
      ]
    },
    {
      "cell_type": "code",
      "source": [
        "# Memoization\n",
        "import collections\n",
        "\n",
        "class Solution2:\n",
        "  dp = collections.defaultdict(int)\n",
        "\n",
        "  def fib(self, N: int) -> int:\n",
        "    if N <= 1:\n",
        "      return N\n",
        "\n",
        "    if self.dp[N]:\n",
        "      return self.dp[N]\n",
        "\n",
        "    self.dp[N] = self.fib(N - 1) + self.fib(N - 2)\n",
        "    return self.dp[N]\n",
        "\n",
        "test2 = Solution2()\n",
        "print(test2.fib(3))"
      ],
      "metadata": {
        "colab": {
          "base_uri": "https://localhost:8080/"
        },
        "id": "EN_utOF2U5cJ",
        "outputId": "45574708-b82b-4a4b-df03-b1b47f02d1ad"
      },
      "execution_count": 8,
      "outputs": [
        {
          "output_type": "stream",
          "name": "stdout",
          "text": [
            "2\n"
          ]
        }
      ]
    },
    {
      "cell_type": "code",
      "source": [
        "# Tabulation\n",
        "class Solution3:\n",
        "  dp = collections.defaultdict(int)\n",
        "  \n",
        "  def fib(self, N: int) -> int:\n",
        "    self.dp[1] = 1\n",
        "\n",
        "    for i in range(2, N + 1): # 모든 dp의 딕셔너리 값을 index 0부터 계산해내감.\n",
        "      self.dp[i] = self.dp[i - 1] + self.dp[i - 2] # fib를 계속 반복적으로 호출하는 건 아니므로, 재귀를 사용하지 않는 것임.\n",
        "    return self.dp[N]\n",
        "\n",
        "test3 = Solution3()\n",
        "# print(test3.dp[0]) # default 값으로 0\n",
        "print(test3.fib(3))\n"
      ],
      "metadata": {
        "colab": {
          "base_uri": "https://localhost:8080/"
        },
        "id": "UaPYh0fIYgsJ",
        "outputId": "d721e94f-1063-49a5-a036-f78e16606701"
      },
      "execution_count": 16,
      "outputs": [
        {
          "output_type": "stream",
          "name": "stdout",
          "text": [
            "2\n"
          ]
        }
      ]
    },
    {
      "cell_type": "code",
      "source": [
        "# 두 변수만 이용해 공간 절약\n",
        "def fib(N: int) -> int:\n",
        "  x, y = 0, 1\n",
        "  for i in range(0, N):\n",
        "    x, y = y, x + y\n",
        "  return x\n",
        "\n",
        "test4 = fib(3)\n",
        "print(test4)"
      ],
      "metadata": {
        "colab": {
          "base_uri": "https://localhost:8080/"
        },
        "id": "NGdSgaTQczN4",
        "outputId": "83bd47c3-256b-4513-a03d-afff2067d4f5"
      },
      "execution_count": 18,
      "outputs": [
        {
          "output_type": "stream",
          "name": "stdout",
          "text": [
            "2\n"
          ]
        }
      ]
    },
    {
      "cell_type": "code",
      "source": [
        "# matrix\n"
      ],
      "metadata": {
        "id": "4WdEc_Myd0eY"
      },
      "execution_count": null,
      "outputs": []
    }
  ]
}