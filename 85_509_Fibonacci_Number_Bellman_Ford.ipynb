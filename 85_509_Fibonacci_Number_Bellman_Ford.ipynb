{
  "nbformat": 4,
  "nbformat_minor": 0,
  "metadata": {
    "colab": {
      "name": "85_509_Fibonacci Number_Bellman Ford.ipynb",
      "provenance": [],
      "authorship_tag": "ABX9TyPgVmS1oXFUXJdB5zPy8f7v",
      "include_colab_link": true
    },
    "kernelspec": {
      "name": "python3",
      "display_name": "Python 3"
    },
    "language_info": {
      "name": "python"
    }
  },
  "cells": [
    {
      "cell_type": "markdown",
      "metadata": {
        "id": "view-in-github",
        "colab_type": "text"
      },
      "source": [
        "<a href=\"https://colab.research.google.com/github/hyeongjunk05/algo2022/blob/main/85_509_Fibonacci_Number_Bellman_Ford.ipynb\" target=\"_parent\"><img src=\"https://colab.research.google.com/assets/colab-badge.svg\" alt=\"Open In Colab\"/></a>"
      ]
    },
    {
      "cell_type": "code",
      "execution_count": null,
      "metadata": {
        "id": "FWSEgP5oaGjD"
      },
      "outputs": [],
      "source": [
        "# page 372, 621"
      ]
    },
    {
      "cell_type": "code",
      "source": [
        "class Solution:\n",
        "    def fib(self, n: int) -> int:\n",
        "        if n <= 1:\n",
        "            return n\n",
        "        return self.fib(n-1)+ self.fib(n-2)"
      ],
      "metadata": {
        "id": "mHuLWjfLSaxl"
      },
      "execution_count": 1,
      "outputs": []
    },
    {
      "cell_type": "code",
      "source": [
        "test = Solution()\n",
        "print(test.fib(0))\n",
        "print(test.fib(1))\n",
        "print(test.fib(2))\n",
        "print(test.fib(3))"
      ],
      "metadata": {
        "colab": {
          "base_uri": "https://localhost:8080/"
        },
        "id": "Mlvl2lQ7UlN-",
        "outputId": "878da92e-f57d-4deb-92b5-d330951d1203"
      },
      "execution_count": 4,
      "outputs": [
        {
          "output_type": "stream",
          "name": "stdout",
          "text": [
            "0\n",
            "1\n",
            "1\n",
            "2\n"
          ]
        }
      ]
    }
  ]
}