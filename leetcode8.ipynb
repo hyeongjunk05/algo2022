{
  "nbformat": 4,
  "nbformat_minor": 0,
  "metadata": {
    "colab": {
      "name": "leetcode8.ipynb",
      "provenance": [],
      "authorship_tag": "ABX9TyOiA1EhsjQ8WaGEZQHLIJ3K",
      "include_colab_link": true
    },
    "kernelspec": {
      "name": "python3",
      "display_name": "Python 3"
    },
    "language_info": {
      "name": "python"
    }
  },
  "cells": [
    {
      "cell_type": "markdown",
      "metadata": {
        "id": "view-in-github",
        "colab_type": "text"
      },
      "source": [
        "<a href=\"https://colab.research.google.com/github/hyeongjunk05/algo2022/blob/main/leetcode8.ipynb\" target=\"_parent\"><img src=\"https://colab.research.google.com/assets/colab-badge.svg\" alt=\"Open In Colab\"/></a>"
      ]
    },
    {
      "cell_type": "code",
      "execution_count": 1,
      "metadata": {
        "id": "5AMu7YpQ6L8L"
      },
      "outputs": [],
      "source": [
        "\n",
        "def trap(height: list) -> int:\n",
        "    if not height:\n",
        "        return 0\n",
        "    \n",
        "    volume = 0\n",
        "    left, right = 0, len(height) -1\n",
        "    left_max, right_max = height[left], height[right]\n",
        "    \n",
        "    while left < right:\n",
        "        left_max, right_max = max(height[left], left_max), max(height[right], right_max)\n",
        "            \n",
        "        if left_max <=right_max:\n",
        "            volume += left_max - height[left]\n",
        "            left += 1\n",
        "        else:\n",
        "            volume += right_max - height[right]\n",
        "            right -= 1\n",
        "            \n",
        "    return volume"
      ]
    },
    {
      "cell_type": "code",
      "source": [
        "print(trap([0,1,0,2,1,0,1,3,2,1,2,1]))"
      ],
      "metadata": {
        "colab": {
          "base_uri": "https://localhost:8080/"
        },
        "id": "GH0s4fQO7wvE",
        "outputId": "80fa40de-c0a4-4487-a061-bc87c6d4df28"
      },
      "execution_count": 2,
      "outputs": [
        {
          "output_type": "stream",
          "name": "stdout",
          "text": [
            "6\n"
          ]
        }
      ]
    },
    {
      "cell_type": "code",
      "source": [
        "def trap1(height: list) -> int:\n",
        "  stack = []\n",
        "  volume = 0\n",
        "  \n",
        "  for i in range(len(height)):\n",
        "    while stack and height[i] > height[stack[-1]]:\n",
        "      top = stack.pop()\n",
        "\n",
        "      if not len(stack):\n",
        "        break\n",
        "      \n",
        "      distance = i - stack[-1] -1\n",
        "      waters = min(height[i], height[stack[-1]]) - height[top]\n",
        "\n",
        "      volume += distance * waters\n",
        "    stack.append(i)\n",
        "    print(stack)\n",
        "  return volume\n"
      ],
      "metadata": {
        "id": "yDXhx4ugITf7"
      },
      "execution_count": 4,
      "outputs": []
    },
    {
      "cell_type": "code",
      "source": [
        "print(trap1([0,1,0,2,1,0,1,3,2,1,2,1]))"
      ],
      "metadata": {
        "colab": {
          "base_uri": "https://localhost:8080/"
        },
        "id": "fwKgP1LBKzEo",
        "outputId": "354c81a5-e70b-4e7f-8058-4fbc30570abc"
      },
      "execution_count": 5,
      "outputs": [
        {
          "output_type": "stream",
          "name": "stdout",
          "text": [
            "[0]\n",
            "[1]\n",
            "[1, 2]\n",
            "[3]\n",
            "[3, 4]\n",
            "[3, 4, 5]\n",
            "[3, 4, 6]\n",
            "[7]\n",
            "[7, 8]\n",
            "[7, 8, 9]\n",
            "[7, 8, 10]\n",
            "[7, 8, 10, 11]\n",
            "6\n"
          ]
        }
      ]
    }
  ]
}