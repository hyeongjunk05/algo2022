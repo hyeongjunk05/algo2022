{
  "nbformat": 4,
  "nbformat_minor": 0,
  "metadata": {
    "colab": {
      "name": "leetcode2.ipynb",
      "provenance": [],
      "authorship_tag": "ABX9TyO94QhQm74tsXpcpwNOlHsp",
      "include_colab_link": true
    },
    "kernelspec": {
      "name": "python3",
      "display_name": "Python 3"
    },
    "language_info": {
      "name": "python"
    }
  },
  "cells": [
    {
      "cell_type": "markdown",
      "metadata": {
        "id": "view-in-github",
        "colab_type": "text"
      },
      "source": [
        "<a href=\"https://colab.research.google.com/github/hyeongjunk05/algo2022/blob/main/leetcode2.ipynb\" target=\"_parent\"><img src=\"https://colab.research.google.com/assets/colab-badge.svg\" alt=\"Open In Colab\"/></a>"
      ]
    },
    {
      "cell_type": "code",
      "execution_count": 16,
      "metadata": {
        "colab": {
          "base_uri": "https://localhost:8080/"
        },
        "id": "ZozX8mXCL_Sc",
        "outputId": "971f1e69-ad08-4f92-c37d-de2ef48b16ef"
      },
      "outputs": [
        {
          "output_type": "stream",
          "name": "stdout",
          "text": [
            "['o', 'l', 'l', 'e', 'h']\n"
          ]
        }
      ],
      "source": [
        "#class Solution:\n",
        "    \n",
        "dim = [\"h\",\"e\",\"l\",\"l\",\"o\"]\n",
        "def reverseString(s: list) -> None:\n",
        "    \"\"\"\n",
        "    Do not return anything, modify s in-place instead.\n",
        "    \"\"\"\n",
        "    left, right = 0, len(s) -1\n",
        "    while left < right:\n",
        "        s[left], s[right] = s[right], s[left]\n",
        "        left += 1\n",
        "        right -= 1\n",
        "\n",
        "    return s\n",
        "\n",
        "print(reverseString(dim))\n",
        "\n"
      ]
    },
    {
      "cell_type": "code",
      "source": [
        "dim = [\"h\",\"e\",\"l\",\"l\",\"s\"]\n",
        "def reverseString(s: list) -> None:\n",
        "  s.reverse()\n",
        "  return s\n",
        "print(reverseString(dim))"
      ],
      "metadata": {
        "colab": {
          "base_uri": "https://localhost:8080/"
        },
        "id": "sNURw1oLODN1",
        "outputId": "1cb43dba-bbc0-4758-a03d-66de13737082"
      },
      "execution_count": 21,
      "outputs": [
        {
          "output_type": "stream",
          "name": "stdout",
          "text": [
            "['s', 'l', 'l', 'e', 'h']\n"
          ]
        }
      ]
    }
  ]
}