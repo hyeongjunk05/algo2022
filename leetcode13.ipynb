{
  "nbformat": 4,
  "nbformat_minor": 0,
  "metadata": {
    "colab": {
      "name": "leetcode13.ipynb",
      "provenance": [],
      "collapsed_sections": [],
      "authorship_tag": "ABX9TyPJ3WrbAmSLb80ubF5xvrI7",
      "include_colab_link": true
    },
    "kernelspec": {
      "name": "python3",
      "display_name": "Python 3"
    },
    "language_info": {
      "name": "python"
    }
  },
  "cells": [
    {
      "cell_type": "markdown",
      "metadata": {
        "id": "view-in-github",
        "colab_type": "text"
      },
      "source": [
        "<a href=\"https://colab.research.google.com/github/hyeongjunk05/algo2022/blob/main/leetcode13.ipynb\" target=\"_parent\"><img src=\"https://colab.research.google.com/assets/colab-badge.svg\" alt=\"Open In Colab\"/></a>"
      ]
    },
    {
      "cell_type": "code",
      "execution_count": 34,
      "metadata": {
        "id": "sELyDKUwXJco"
      },
      "outputs": [],
      "source": [
        "# from typing import List\n",
        "from typing import Dict, List, Optional\n",
        "# from __future__ import annotations\n",
        "\n",
        "def isPalindrome(head: Optional[ListNode]) -> bool:\n",
        "    q: List = []\n",
        "        \n",
        "    if not head:\n",
        "        return True\n",
        "    \n",
        "\n",
        "    node = head\n",
        "    \n",
        "    while node is not None:\n",
        "        q.append(node.val)\n",
        "        node = node.next\n",
        "        \n",
        "    while len(q) > 1:\n",
        "        if q.pop(0) != q.pop():\n",
        "            return False\n",
        "        \n",
        "    return True\n",
        "\n",
        "    # https://lewisxyz000.tistory.com/35\n",
        "    # https://ssungkang.tistory.com/entry/python-Type-Hints\n",
        "    # https://security-nanglam.tistory.com/417\n",
        "    # https://docs.python.org/ko/3/library/typing.html\n",
        "    # https://peps.python.org/pep-0484/\n",
        "    # https://linuxtut.com/en/fa6cfc4fff8f58140caa/"
      ]
    },
    {
      "cell_type": "code",
      "source": [
        "print(isPalindrome([1,2,2,1]))"
      ],
      "metadata": {
        "colab": {
          "base_uri": "https://localhost:8080/",
          "height": 303
        },
        "id": "ZlNAALP5bEQk",
        "outputId": "42f3e5ec-d2db-4b76-dc4f-f80ac908281e"
      },
      "execution_count": 36,
      "outputs": [
        {
          "output_type": "error",
          "ename": "AttributeError",
          "evalue": "ignored",
          "traceback": [
            "\u001b[0;31m---------------------------------------------------------------------------\u001b[0m",
            "\u001b[0;31mAttributeError\u001b[0m                            Traceback (most recent call last)",
            "\u001b[0;32m<ipython-input-36-21aef9a72fa4>\u001b[0m in \u001b[0;36m<module>\u001b[0;34m()\u001b[0m\n\u001b[0;32m----> 1\u001b[0;31m \u001b[0mprint\u001b[0m\u001b[0;34m(\u001b[0m\u001b[0misPalindrome\u001b[0m\u001b[0;34m(\u001b[0m\u001b[0;34m[\u001b[0m\u001b[0;36m1\u001b[0m\u001b[0;34m,\u001b[0m\u001b[0;36m2\u001b[0m\u001b[0;34m,\u001b[0m\u001b[0;36m2\u001b[0m\u001b[0;34m,\u001b[0m\u001b[0;36m1\u001b[0m\u001b[0;34m]\u001b[0m\u001b[0;34m)\u001b[0m\u001b[0;34m)\u001b[0m\u001b[0;34m\u001b[0m\u001b[0;34m\u001b[0m\u001b[0m\n\u001b[0m",
            "\u001b[0;32m<ipython-input-34-6dceddc5c5fb>\u001b[0m in \u001b[0;36misPalindrome\u001b[0;34m(head)\u001b[0m\n\u001b[1;32m     13\u001b[0m \u001b[0;34m\u001b[0m\u001b[0m\n\u001b[1;32m     14\u001b[0m     \u001b[0;32mwhile\u001b[0m \u001b[0mnode\u001b[0m \u001b[0;32mis\u001b[0m \u001b[0;32mnot\u001b[0m \u001b[0;32mNone\u001b[0m\u001b[0;34m:\u001b[0m\u001b[0;34m\u001b[0m\u001b[0;34m\u001b[0m\u001b[0m\n\u001b[0;32m---> 15\u001b[0;31m         \u001b[0mq\u001b[0m\u001b[0;34m.\u001b[0m\u001b[0mappend\u001b[0m\u001b[0;34m(\u001b[0m\u001b[0mnode\u001b[0m\u001b[0;34m.\u001b[0m\u001b[0mval\u001b[0m\u001b[0;34m)\u001b[0m\u001b[0;34m\u001b[0m\u001b[0;34m\u001b[0m\u001b[0m\n\u001b[0m\u001b[1;32m     16\u001b[0m         \u001b[0mnode\u001b[0m \u001b[0;34m=\u001b[0m \u001b[0mnode\u001b[0m\u001b[0;34m.\u001b[0m\u001b[0mnext\u001b[0m\u001b[0;34m\u001b[0m\u001b[0;34m\u001b[0m\u001b[0m\n\u001b[1;32m     17\u001b[0m \u001b[0;34m\u001b[0m\u001b[0m\n",
            "\u001b[0;31mAttributeError\u001b[0m: 'list' object has no attribute 'val'"
          ]
        }
      ]
    },
    {
      "cell_type": "code",
      "source": [
        "class Solution:\n",
        "    def isPalindrome(self, head: Optional[ListNode]) -> bool:\n",
        "        q: List = []\n",
        "            \n",
        "        if not head:\n",
        "            return True\n",
        "        \n",
        "    \n",
        "        node = head\n",
        "        print(node)\n",
        "        while node is not None:\n",
        "            print(node.val)\n",
        "            q.append(node.val)\n",
        "            print(node.next)\n",
        "            node = node.next\n",
        "            \n",
        "            \n",
        "        while len(q) > 1:\n",
        "            if q.pop(0) != q.pop():\n",
        "                return False\n",
        "            \n",
        "        return True"
      ],
      "metadata": {
        "id": "_IeBIcUTihqy"
      },
      "execution_count": null,
      "outputs": []
    }
  ]
}