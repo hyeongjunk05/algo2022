{
  "nbformat": 4,
  "nbformat_minor": 0,
  "metadata": {
    "colab": {
      "name": "85_509_Fractional Knapsack Problem_Bellman Ford.ipynb",
      "provenance": [],
      "authorship_tag": "ABX9TyMZP/M7hfJgdREa0xvohWsP",
      "include_colab_link": true
    },
    "kernelspec": {
      "name": "python3",
      "display_name": "Python 3"
    },
    "language_info": {
      "name": "python"
    }
  },
  "cells": [
    {
      "cell_type": "markdown",
      "metadata": {
        "id": "view-in-github",
        "colab_type": "text"
      },
      "source": [
        "<a href=\"https://colab.research.google.com/github/hyeongjunk05/algo2022/blob/main/85_509_Fractional_Knapsack_Problem_Bellman_Ford.ipynb\" target=\"_parent\"><img src=\"https://colab.research.google.com/assets/colab-badge.svg\" alt=\"Open In Colab\"/></a>"
      ]
    },
    {
      "cell_type": "code",
      "execution_count": 7,
      "metadata": {
        "colab": {
          "base_uri": "https://localhost:8080/"
        },
        "id": "ifrC_9uisz3z",
        "outputId": "b49db22d-82cc-48a9-8319-101012b6cec2"
      },
      "outputs": [
        {
          "output_type": "stream",
          "name": "stdout",
          "text": [
            "15\n"
          ]
        }
      ],
      "source": [
        "#\n",
        "\n",
        "cargo = [\n",
        "    (4, 12),\n",
        "    (2, 1),\n",
        "    (10, 4),\n",
        "    (1, 1),\n",
        "    (2, 2)\n",
        "]\n",
        "# print(cargo[-1][-1])\n",
        "\n",
        "def zero_one_knapsack(cargo):\n",
        "  capacity = 15\n",
        "  pack = []\n",
        "\n",
        "  for i in range(len(cargo) + 1):\n",
        "    pack.append([])\n",
        "    for c in range(capacity + 1):\n",
        "      if i == 0 or c == 0:\n",
        "        pack[i].append(0)\n",
        "# i = 2, c = 13\n",
        "      elif cargo[i - 1][1] <= c: # c 는 배낭 용량 kg 비교\n",
        "        pack[i].append(\n",
        "            max(# cargo[1][0] + pack[1][12] = 2 + 4\n",
        "                cargo[i - 1][0] + pack[i - 1][c - cargo[i - 1][1]], # 여기 부분은 돈 계산\n",
        "                pack[i - 1][c]#4\n",
        "            ))\n",
        "      else:\n",
        "        pack[i].append(pack[i - 1][c])\n",
        "  return pack[-1][-1]\n",
        "print(zero_one_knapsack(cargo))"
      ]
    }
  ]
}