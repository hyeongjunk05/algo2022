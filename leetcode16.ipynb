{
  "nbformat": 4,
  "nbformat_minor": 0,
  "metadata": {
    "colab": {
      "name": "leetcode16.ipynb",
      "provenance": [],
      "authorship_tag": "ABX9TyMEl8xa7xWRRcAvW4olhU/k",
      "include_colab_link": true
    },
    "kernelspec": {
      "name": "python3",
      "display_name": "Python 3"
    },
    "language_info": {
      "name": "python"
    }
  },
  "cells": [
    {
      "cell_type": "markdown",
      "metadata": {
        "id": "view-in-github",
        "colab_type": "text"
      },
      "source": [
        "<a href=\"https://colab.research.google.com/github/hyeongjunk05/algo2022/blob/main/leetcode16.ipynb\" target=\"_parent\"><img src=\"https://colab.research.google.com/assets/colab-badge.svg\" alt=\"Open In Colab\"/></a>"
      ]
    },
    {
      "cell_type": "code",
      "execution_count": 3,
      "metadata": {
        "id": "9sG2HRDKZjl8"
      },
      "outputs": [],
      "source": [
        "from typing import Optional\n",
        "\n",
        "class ListNode:\n",
        "    def __init__(self, val=0, next=None):\n",
        "        self.val = val\n",
        "        self.next = next\n",
        "\n",
        "def addTwoNumbers(self, l1: Optional[ListNode], l2: Optional[ListNode]) -> Optional[ListNode]:\n",
        "    root = head = ListNode(0)\n",
        "    \n",
        "    carry = 0\n",
        "    while l1 or l2 or carry:\n",
        "        sum = 0\n",
        "        \n",
        "        if l1:\n",
        "            sum += l1.val\n",
        "            l1 = l1.next\n",
        "            \n",
        "        if l2:\n",
        "            sum += l2.val\n",
        "            l2 = l2.next\n",
        "            \n",
        "        carry, val = divmod(sum + carry, 10)\n",
        "        head.next = ListNode(val)\n",
        "        head = head.next\n",
        "        \n",
        "    return root.next\n",
        "    \n",
        "    "
      ]
    },
    {
      "cell_type": "code",
      "source": [
        "print(addTwoNumbers([2,4,3][5,6,4]))"
      ],
      "metadata": {
        "colab": {
          "base_uri": "https://localhost:8080/",
          "height": 174
        },
        "id": "rqG66JX7gR9c",
        "outputId": "4c2cc578-d3ca-48b3-9e49-25188fd36edf"
      },
      "execution_count": 7,
      "outputs": [
        {
          "output_type": "error",
          "ename": "TypeError",
          "evalue": "ignored",
          "traceback": [
            "\u001b[0;31m---------------------------------------------------------------------------\u001b[0m",
            "\u001b[0;31mTypeError\u001b[0m                                 Traceback (most recent call last)",
            "\u001b[0;32m<ipython-input-7-45b153ce4397>\u001b[0m in \u001b[0;36m<module>\u001b[0;34m()\u001b[0m\n\u001b[0;32m----> 1\u001b[0;31m \u001b[0mprint\u001b[0m\u001b[0;34m(\u001b[0m\u001b[0maddTwoNumbers\u001b[0m\u001b[0;34m(\u001b[0m\u001b[0;34m[\u001b[0m\u001b[0;36m2\u001b[0m\u001b[0;34m,\u001b[0m\u001b[0;36m4\u001b[0m\u001b[0;34m,\u001b[0m\u001b[0;36m3\u001b[0m\u001b[0;34m]\u001b[0m\u001b[0;34m[\u001b[0m\u001b[0;36m5\u001b[0m\u001b[0;34m,\u001b[0m\u001b[0;36m6\u001b[0m\u001b[0;34m,\u001b[0m\u001b[0;36m4\u001b[0m\u001b[0;34m]\u001b[0m\u001b[0;34m)\u001b[0m\u001b[0;34m)\u001b[0m\u001b[0;34m\u001b[0m\u001b[0;34m\u001b[0m\u001b[0m\n\u001b[0m",
            "\u001b[0;31mTypeError\u001b[0m: list indices must be integers or slices, not tuple"
          ]
        }
      ]
    }
  ]
}