{
  "nbformat": 4,
  "nbformat_minor": 0,
  "metadata": {
    "colab": {
      "name": "leetcode5-1.ipynb",
      "provenance": [],
      "authorship_tag": "ABX9TyM29n5UCX1g1Zw6BzS1TmWP",
      "include_colab_link": true
    },
    "kernelspec": {
      "name": "python3",
      "display_name": "Python 3"
    },
    "language_info": {
      "name": "python"
    }
  },
  "cells": [
    {
      "cell_type": "markdown",
      "metadata": {
        "id": "view-in-github",
        "colab_type": "text"
      },
      "source": [
        "<a href=\"https://colab.research.google.com/github/hyeongjunk05/algo2022/blob/main/leetcode5_1.ipynb\" target=\"_parent\"><img src=\"https://colab.research.google.com/assets/colab-badge.svg\" alt=\"Open In Colab\"/></a>"
      ]
    },
    {
      "cell_type": "code",
      "execution_count": 56,
      "metadata": {
        "id": "ysa96q6fWoot"
      },
      "outputs": [],
      "source": [
        "import collections\n",
        "\n",
        "def groupAnagrams(strs: list) -> list:\n",
        "    anagrams = collections.defaultdict(list)\n",
        "    # print(collections)\n",
        "    # print(collections.defaultdict())\n",
        "    # print(collections.defaultdict(list))\n",
        "    # print(anagrams)\n",
        "    # print(strs)\n",
        "\n",
        "    for word in strs:\n",
        "        # print(word)\n",
        "        print(''.join(sorted(word)))\n",
        "        print(anagrams[''.join(sorted(word))])\n",
        "        print(anagrams.keys())\n",
        "        # print(type(''.join(sorted(word))))\n",
        "        # print(anagrams[''.join(sorted(word))])\n",
        "        # anagrams[''.join(sorted(word))].append(word)\n",
        "    \n",
        "    # print(anagrams.keys)\n",
        "    # print(anagrams.values)\n",
        "    return anagrams.keys(), anagrams.values()\n",
        "        "
      ]
    },
    {
      "cell_type": "code",
      "source": [
        "print(groupAnagrams([\"eat\",\"tea\",\"tan\",\"ate\",\"nat\",\"bat\"]))"
      ],
      "metadata": {
        "colab": {
          "base_uri": "https://localhost:8080/"
        },
        "id": "Lbx3v_t6Y_q4",
        "outputId": "2da43f65-4407-44e2-c1ee-cd59767b7972"
      },
      "execution_count": 57,
      "outputs": [
        {
          "output_type": "stream",
          "name": "stdout",
          "text": [
            "aet\n",
            "[]\n",
            "dict_keys(['aet'])\n",
            "aet\n",
            "[]\n",
            "dict_keys(['aet'])\n",
            "ant\n",
            "[]\n",
            "dict_keys(['aet', 'ant'])\n",
            "aet\n",
            "[]\n",
            "dict_keys(['aet', 'ant'])\n",
            "ant\n",
            "[]\n",
            "dict_keys(['aet', 'ant'])\n",
            "abt\n",
            "[]\n",
            "dict_keys(['aet', 'ant', 'abt'])\n",
            "(dict_keys(['aet', 'ant', 'abt']), dict_values([[], [], []]))\n"
          ]
        }
      ]
    }
  ]
}