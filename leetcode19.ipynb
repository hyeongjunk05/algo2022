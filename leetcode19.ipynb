{
  "nbformat": 4,
  "nbformat_minor": 0,
  "metadata": {
    "colab": {
      "name": "leetcode19.ipynb",
      "provenance": [],
      "authorship_tag": "ABX9TyPgTVZKh7keKHZ09X1zZiAj",
      "include_colab_link": true
    },
    "kernelspec": {
      "name": "python3",
      "display_name": "Python 3"
    },
    "language_info": {
      "name": "python"
    }
  },
  "cells": [
    {
      "cell_type": "markdown",
      "metadata": {
        "id": "view-in-github",
        "colab_type": "text"
      },
      "source": [
        "<a href=\"https://colab.research.google.com/github/hyeongjunk05/algo2022/blob/main/leetcode19.ipynb\" target=\"_parent\"><img src=\"https://colab.research.google.com/assets/colab-badge.svg\" alt=\"Open In Colab\"/></a>"
      ]
    },
    {
      "cell_type": "code",
      "execution_count": null,
      "metadata": {
        "id": "xtHVyXV6WE4v"
      },
      "outputs": [],
      "source": [
        "# Definition for singly-linked list.\n",
        "# class ListNode:\n",
        "#     def __init__(self, val=0, next=None):\n",
        "#         self.val = val\n",
        "#         self.next = next\n",
        "class Solution:\n",
        "    def reverseBetween(self, head: Optional[ListNode], left: int, right: int) -> Optional[ListNode]:\n",
        "        if not head or left == right:\n",
        "            return head\n",
        "        \n",
        "        root = start = ListNode(None)\n",
        "        root.next = head\n",
        "        \n",
        "        for _ in range(left-1):\n",
        "            start = start.next\n",
        "            \n",
        "        end = start.next\n",
        "        \n",
        "        for _ in range(right-left):\n",
        "            tmp, start.next, end.next = start.next, end.next, end.next.next\n",
        "            start.next.next = tmp\n",
        "            \n",
        "        return root.next\n",
        "            \n",
        "        "
      ]
    }
  ]
}