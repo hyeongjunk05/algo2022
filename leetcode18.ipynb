{
  "nbformat": 4,
  "nbformat_minor": 0,
  "metadata": {
    "colab": {
      "name": "leetcode18.ipynb",
      "provenance": [],
      "authorship_tag": "ABX9TyOmF9KRlSBLi6166Incoy/K",
      "include_colab_link": true
    },
    "kernelspec": {
      "name": "python3",
      "display_name": "Python 3"
    },
    "language_info": {
      "name": "python"
    }
  },
  "cells": [
    {
      "cell_type": "markdown",
      "metadata": {
        "id": "view-in-github",
        "colab_type": "text"
      },
      "source": [
        "<a href=\"https://colab.research.google.com/github/hyeongjunk05/algo2022/blob/main/leetcode18.ipynb\" target=\"_parent\"><img src=\"https://colab.research.google.com/assets/colab-badge.svg\" alt=\"Open In Colab\"/></a>"
      ]
    },
    {
      "cell_type": "code",
      "execution_count": null,
      "metadata": {
        "id": "QOLz5XvoVzpe"
      },
      "outputs": [],
      "source": [
        "# Definition for singly-linked list.\n",
        "# class ListNode:\n",
        "#     def __init__(self, val=0, next=None):\n",
        "#         self.val = val\n",
        "#         self.next = next\n",
        "class Solution:\n",
        "    def oddEvenList(self, head: Optional[ListNode]) -> Optional[ListNode]:\n",
        "        if head is None:\n",
        "            return None\n",
        "        \n",
        "        odd = head\n",
        "        even = head.next\n",
        "        even_head = head.next\n",
        "        \n",
        "        while even and even.next:\n",
        "            odd.next, even.next = odd.next.next, even.next.next\n",
        "            odd, even = odd.next, even.next\n",
        "            \n",
        "        odd.next = even_head\n",
        "        return head"
      ]
    }
  ]
}