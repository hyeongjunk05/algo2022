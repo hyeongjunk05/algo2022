{
  "nbformat": 4,
  "nbformat_minor": 0,
  "metadata": {
    "colab": {
      "name": "87_70_Climbing Stairs.ipynb",
      "provenance": [],
      "authorship_tag": "ABX9TyNHq3bklHIIoqGVdvBoD2qN",
      "include_colab_link": true
    },
    "kernelspec": {
      "name": "python3",
      "display_name": "Python 3"
    },
    "language_info": {
      "name": "python"
    }
  },
  "cells": [
    {
      "cell_type": "markdown",
      "metadata": {
        "id": "view-in-github",
        "colab_type": "text"
      },
      "source": [
        "<a href=\"https://colab.research.google.com/github/hyeongjunk05/algo2022/blob/main/87_70_Climbing_Stairs.ipynb\" target=\"_parent\"><img src=\"https://colab.research.google.com/assets/colab-badge.svg\" alt=\"Open In Colab\"/></a>"
      ]
    },
    {
      "cell_type": "code",
      "execution_count": 16,
      "metadata": {
        "colab": {
          "base_uri": "https://localhost:8080/"
        },
        "id": "y-VTkoJkvQLR",
        "outputId": "0260e0d2-7fd2-4b6f-99a1-01ecc2fb4894"
      },
      "outputs": [
        {
          "output_type": "stream",
          "name": "stdout",
          "text": [
            "2\n"
          ]
        }
      ],
      "source": [
        "# Brute Force\n",
        "\n",
        "class Solution:\n",
        "  def climbStairs(self, n: int) -> int:\n",
        "      if n == 1:\n",
        "          return 1\n",
        "      if n == 2:\n",
        "          return 2\n",
        "      return self.climbStairs(n - 1) + self.climbStairs(n - 2)\n",
        "\n",
        "test = Solution()\n",
        "print(test.climbStairs(2))"
      ]
    },
    {
      "cell_type": "code",
      "source": [
        "# memoization\n",
        "\n",
        "import collections\n",
        "\n",
        "class Solution2:\n",
        "  dp = collections.defaultdict(int)\n",
        "\n",
        "  def climbStairs(self, n: int) -> int:\n",
        "    if n <= 2:\n",
        "      return n\n",
        "    \n",
        "    if self.dp[n]:\n",
        "      return self.dp[n]\n",
        "    self.dp[n] = self.climbStairs(n - 1) +self.climbStairs(n - 2)\n",
        "    return self.dp[n]\n",
        "\n",
        "test2 = Solution2()\n",
        "print(test2.climbStairs(3))"
      ],
      "metadata": {
        "colab": {
          "base_uri": "https://localhost:8080/"
        },
        "id": "DJlEYOuCzi6G",
        "outputId": "bc32ff98-ad61-4e13-d559-66effa1946c4"
      },
      "execution_count": 19,
      "outputs": [
        {
          "output_type": "stream",
          "name": "stdout",
          "text": [
            "3\n"
          ]
        }
      ]
    }
  ]
}