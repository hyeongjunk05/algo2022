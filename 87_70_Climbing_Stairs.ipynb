{
  "nbformat": 4,
  "nbformat_minor": 0,
  "metadata": {
    "colab": {
      "name": "87_70_Climbing Stairs.ipynb",
      "provenance": [],
      "authorship_tag": "ABX9TyNdDh022KIQF0XvEk39Ic4h",
      "include_colab_link": true
    },
    "kernelspec": {
      "name": "python3",
      "display_name": "Python 3"
    },
    "language_info": {
      "name": "python"
    }
  },
  "cells": [
    {
      "cell_type": "markdown",
      "metadata": {
        "id": "view-in-github",
        "colab_type": "text"
      },
      "source": [
        "<a href=\"https://colab.research.google.com/github/hyeongjunk05/algo2022/blob/main/87_70_Climbing_Stairs.ipynb\" target=\"_parent\"><img src=\"https://colab.research.google.com/assets/colab-badge.svg\" alt=\"Open In Colab\"/></a>"
      ]
    },
    {
      "cell_type": "code",
      "execution_count": 13,
      "metadata": {
        "colab": {
          "base_uri": "https://localhost:8080/"
        },
        "id": "y-VTkoJkvQLR",
        "outputId": "9b1389f4-eb50-490d-9386-dbf8c200fc5c"
      },
      "outputs": [
        {
          "output_type": "stream",
          "name": "stdout",
          "text": [
            "2\n"
          ]
        }
      ],
      "source": [
        "class Solution:\n",
        "  def climbStairs(self, n: int) -> int:\n",
        "      if n == 1:\n",
        "          return 1\n",
        "      if n == 2:\n",
        "          return 2\n",
        "      return climbStairs((n-1)) + climbStairs((n-2))\n",
        "\n",
        "test = Solution()\n",
        "print(test.climbStairs(2))"
      ]
    }
  ]
}