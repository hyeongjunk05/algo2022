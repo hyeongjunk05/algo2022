{
  "nbformat": 4,
  "nbformat_minor": 0,
  "metadata": {
    "colab": {
      "name": "leetcode10.ipynb",
      "provenance": [],
      "authorship_tag": "ABX9TyMzKNgSiCrBgxhbF1WTkfpa",
      "include_colab_link": true
    },
    "kernelspec": {
      "name": "python3",
      "display_name": "Python 3"
    },
    "language_info": {
      "name": "python"
    }
  },
  "cells": [
    {
      "cell_type": "markdown",
      "metadata": {
        "id": "view-in-github",
        "colab_type": "text"
      },
      "source": [
        "<a href=\"https://colab.research.google.com/github/hyeongjunk05/algo2022/blob/main/leetcode10.ipynb\" target=\"_parent\"><img src=\"https://colab.research.google.com/assets/colab-badge.svg\" alt=\"Open In Colab\"/></a>"
      ]
    },
    {
      "cell_type": "code",
      "execution_count": 28,
      "metadata": {
        "id": "Jkb3_eJvBA1S"
      },
      "outputs": [],
      "source": [
        "\n",
        "def arrayPairSum(self, nums: any) -> any:\n",
        "    sum = 0\n",
        "    pair = []\n",
        "    nums.sort()\n",
        "    \n",
        "    for n in nums:\n",
        "        pair.append(n)\n",
        "        if len(pair) == 2:\n",
        "            sum += min(pair)\n",
        "            pair = []\n",
        "            print('sdfsdf')\n",
        "            \n",
        "    return sum"
      ]
    },
    {
      "cell_type": "code",
      "source": [
        " nums = [2,4,1,3]\n",
        "print(arrayPairSum(nums, nums))"
      ],
      "metadata": {
        "colab": {
          "base_uri": "https://localhost:8080/"
        },
        "id": "5CJNKsSOBMpN",
        "outputId": "049c6a39-a112-4731-e996-72f259dffb02"
      },
      "execution_count": 30,
      "outputs": [
        {
          "output_type": "stream",
          "name": "stdout",
          "text": [
            "sdfsdf\n",
            "sdfsdf\n",
            "4\n"
          ]
        }
      ]
    }
  ]
}