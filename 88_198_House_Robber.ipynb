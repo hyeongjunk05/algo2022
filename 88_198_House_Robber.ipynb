{
  "nbformat": 4,
  "nbformat_minor": 0,
  "metadata": {
    "colab": {
      "name": "88_198_House Robber.ipynb",
      "provenance": [],
      "authorship_tag": "ABX9TyNZSgwr5dc8OubRf4wHMbWo",
      "include_colab_link": true
    },
    "kernelspec": {
      "name": "python3",
      "display_name": "Python 3"
    },
    "language_info": {
      "name": "python"
    }
  },
  "cells": [
    {
      "cell_type": "markdown",
      "metadata": {
        "id": "view-in-github",
        "colab_type": "text"
      },
      "source": [
        "<a href=\"https://colab.research.google.com/github/hyeongjunk05/algo2022/blob/main/88_198_House_Robber.ipynb\" target=\"_parent\"><img src=\"https://colab.research.google.com/assets/colab-badge.svg\" alt=\"Open In Colab\"/></a>"
      ]
    },
    {
      "cell_type": "code",
      "execution_count": null,
      "metadata": {
        "id": "o2hqZXDH2LGy"
      },
      "outputs": [],
      "source": [
        "# Brute Force"
      ]
    },
    {
      "cell_type": "code",
      "source": [
        "# Tabulation"
      ],
      "metadata": {
        "id": "ubK3WS9o2Ta-"
      },
      "execution_count": null,
      "outputs": []
    }
  ]
}