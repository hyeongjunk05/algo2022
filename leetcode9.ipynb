{
  "nbformat": 4,
  "nbformat_minor": 0,
  "metadata": {
    "colab": {
      "name": "leetcode9.ipynb",
      "provenance": [],
      "authorship_tag": "ABX9TyODvbdChS9g/AaYSj6u9hO3",
      "include_colab_link": true
    },
    "kernelspec": {
      "name": "python3",
      "display_name": "Python 3"
    },
    "language_info": {
      "name": "python"
    }
  },
  "cells": [
    {
      "cell_type": "markdown",
      "metadata": {
        "id": "view-in-github",
        "colab_type": "text"
      },
      "source": [
        "<a href=\"https://colab.research.google.com/github/hyeongjunk05/algo2022/blob/main/leetcode9.ipynb\" target=\"_parent\"><img src=\"https://colab.research.google.com/assets/colab-badge.svg\" alt=\"Open In Colab\"/></a>"
      ]
    },
    {
      "cell_type": "code",
      "execution_count": 2,
      "metadata": {
        "id": "mbV6Gj2nMohk"
      },
      "outputs": [],
      "source": [
        "\n",
        "def threeSum(nums: list) -> list:\n",
        "    results = []\n",
        "    nums.sort()\n",
        "    \n",
        "    for i in range(len(nums) - 2 ):\n",
        "        if i > 0 and nums[i] == nums[i-1]:\n",
        "            continue\n",
        "            \n",
        "        left, right = i + 1, len(nums) -1\n",
        "        while left < right:\n",
        "            sum = nums[i] +nums[left] + nums[right]\n",
        "            if sum < 0:\n",
        "                left += 1\n",
        "                \n",
        "            elif sum > 0:\n",
        "                right -= 1\n",
        "                \n",
        "            else:\n",
        "                results.append((nums[i], nums[left], nums[right]))\n",
        "                \n",
        "            while left < right and nums[left] == nums[left + 1]:\n",
        "                \n",
        "                left += 1\n",
        "                \n",
        "            while left < right and nums[right] == nums[right -1]:\n",
        "                right -= 1\n",
        "                \n",
        "            left += 1\n",
        "            right -= 1\n",
        "            \n",
        "    return results"
      ]
    },
    {
      "cell_type": "code",
      "source": [
        "threeSum([-1,0,1,2,-1,-4])"
      ],
      "metadata": {
        "colab": {
          "base_uri": "https://localhost:8080/"
        },
        "id": "9C4Aj9UduaGf",
        "outputId": "956ec1c8-2163-4f69-9825-76681667838f"
      },
      "execution_count": 3,
      "outputs": [
        {
          "output_type": "execute_result",
          "data": {
            "text/plain": [
              "[(-1, -1, 2), (-1, 0, 1)]"
            ]
          },
          "metadata": {},
          "execution_count": 3
        }
      ]
    }
  ]
}