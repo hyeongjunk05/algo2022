{
  "nbformat": 4,
  "nbformat_minor": 0,
  "metadata": {
    "colab": {
      "name": "leetcode83.ipynb",
      "provenance": [],
      "authorship_tag": "ABX9TyPKmHzf1uLKPEk8azvfAp0a",
      "include_colab_link": true
    },
    "kernelspec": {
      "name": "python3",
      "display_name": "Python 3"
    },
    "language_info": {
      "name": "python"
    }
  },
  "cells": [
    {
      "cell_type": "markdown",
      "metadata": {
        "id": "view-in-github",
        "colab_type": "text"
      },
      "source": [
        "<a href=\"https://colab.research.google.com/github/hyeongjunk05/algo2022/blob/main/leetcode83.ipynb\" target=\"_parent\"><img src=\"https://colab.research.google.com/assets/colab-badge.svg\" alt=\"Open In Colab\"/></a>"
      ]
    },
    {
      "cell_type": "code",
      "execution_count": null,
      "metadata": {
        "id": "1XQJWI9AOERh"
      },
      "outputs": [],
      "source": [
        "class Solution:\n",
        "    def majorityElement(self, nums: List[int]) -> int:\n",
        "        for num in nums:\n",
        "            if nums.count(num) > len(nums) //2 :\n",
        "                return num"
      ]
    },
    {
      "cell_type": "code",
      "source": [
        "from typing import List\n",
        "import collections\n",
        "\n",
        "def majorityElement(nums: List[int]) -> int:\n",
        "    counts = collections.defaultdict(int)\n",
        "    for num in nums:\n",
        "        # print(num)\n",
        "        print(counts[num])\n",
        "        if counts[num] == 0:\n",
        "            counts[num] = nums.count(num)\n",
        "            \n",
        "        if counts[num] > len(nums) // 2:\n",
        "            # return num"
      ],
      "metadata": {
        "id": "e1LPHfL3OJI0"
      },
      "execution_count": null,
      "outputs": []
    },
    {
      "cell_type": "code",
      "source": [
        "majorityElement([3,1,55,55,55,55])"
      ],
      "metadata": {
        "colab": {
          "base_uri": "https://localhost:8080/"
        },
        "id": "GYkpG7-dPi3_",
        "outputId": "b6c9bb8f-cb24-4950-cf8d-07b2cc9b4cd9"
      },
      "execution_count": null,
      "outputs": [
        {
          "output_type": "stream",
          "name": "stdout",
          "text": [
            "0\n",
            "0\n",
            "0\n",
            "0\n",
            "0\n",
            "0\n"
          ]
        }
      ]
    },
    {
      "cell_type": "code",
      "source": [
        "from typing import List\n",
        "\n",
        "\n",
        "def majorityElement(nums: List[int]) -> int:\n",
        "    if not nums:\n",
        "        return None\n",
        "    if len(nums) == 1:\n",
        "        return nums[0]\n",
        "    \n",
        "    half = len(nums) // 2\n",
        "    a = majorityElement(nums[:half])\n",
        "    b = majorityElement(nums[half:])\n",
        "    \n",
        "    return [b,a][nums.count(a) > half]"
      ],
      "metadata": {
        "id": "lckyTbP7UXoU"
      },
      "execution_count": 26,
      "outputs": []
    },
    {
      "cell_type": "code",
      "source": [
        "majorityElement([3,1,55,55,55,55,4,4,4,4,4,4,4,])\n"
      ],
      "metadata": {
        "colab": {
          "base_uri": "https://localhost:8080/"
        },
        "id": "Mgs8OaMQU5yC",
        "outputId": "c84443bb-b9eb-4fe6-d9e5-8f18eef9ea5d"
      },
      "execution_count": 31,
      "outputs": [
        {
          "output_type": "execute_result",
          "data": {
            "text/plain": [
              "4"
            ]
          },
          "metadata": {},
          "execution_count": 31
        }
      ]
    }
  ]
}