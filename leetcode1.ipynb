{
  "nbformat": 4,
  "nbformat_minor": 0,
  "metadata": {
    "colab": {
      "name": "leetcode.ipynb",
      "provenance": []
    },
    "kernelspec": {
      "name": "python3",
      "display_name": "Python 3"
    },
    "language_info": {
      "name": "python"
    }
  },
  "cells": [
    {
      "cell_type": "code",
      "execution_count": 19,
      "metadata": {
        "colab": {
          "base_uri": "https://localhost:8080/"
        },
        "id": "0eOfWSpH2sDW",
        "outputId": "c8ecd507-c0e7-4f27-ad50-6b5100b395cc"
      },
      "outputs": [
        {
          "output_type": "stream",
          "name": "stdout",
          "text": [
            "False\n"
          ]
        }
      ],
      "source": [
        "def isPalindrome(s: str) -> bool:\n",
        "  #strs : Deque = collections.deque()\n",
        "  strs = []\n",
        "\n",
        "  for char in s:\n",
        "    if char.isalnum():\n",
        "      strs.append(char.lower())\n",
        "\n",
        "  while len(strs) > 1:\n",
        "    if strs.pop(0) != strs.pop():\n",
        "      return False\n",
        "\n",
        "    return True\n",
        "\n",
        "s = \"a man\"\n",
        "print(isPalindrome(s))"
      ]
    },
    {
      "cell_type": "code",
      "source": [
        "import collections\n",
        "#from collections import deque\n",
        "\n",
        "def isPalindrome2(s: str) -> bool:\n",
        "  strs : Deque = collections.deque()\n",
        "  #strs = []\n",
        "\n",
        "  for char in s:\n",
        "    if char.isalnum():\n",
        "      strs.append(char.lower())\n",
        "\n",
        "  while len(strs) > 1:\n",
        "    if strs.popleft() != strs.pop():\n",
        "      return False\n",
        "\n",
        "  return True\n",
        "\n",
        "s = \"asdsa\"\n",
        "print(isPalindrome2(s))"
      ],
      "metadata": {
        "colab": {
          "base_uri": "https://localhost:8080/"
        },
        "id": "mNF8HJwj2xC-",
        "outputId": "74820fb5-b321-4b3a-f389-60beb61768ba"
      },
      "execution_count": 30,
      "outputs": [
        {
          "output_type": "stream",
          "name": "stdout",
          "text": [
            "True\n"
          ]
        }
      ]
    },
    {
      "cell_type": "code",
      "source": [
        "#import re\n",
        "\n",
        "def isPalindrome3(s: str) -> bool:\n",
        "  s = s.lower()\n",
        "  s = re.sub('[^a-z0-9]',\"\",s)\n",
        "\n",
        "  return s == s[::-1]\n",
        "\n",
        "s = \"asdsa\"\n",
        "print(isPalindrome3(s))"
      ],
      "metadata": {
        "colab": {
          "base_uri": "https://localhost:8080/"
        },
        "id": "SO7qqAxz9_3E",
        "outputId": "2c9d2f17-73e1-4fa6-ca5c-b0f795b3a78a"
      },
      "execution_count": 35,
      "outputs": [
        {
          "output_type": "stream",
          "name": "stdout",
          "text": [
            "True\n"
          ]
        }
      ]
    }
  ]
}