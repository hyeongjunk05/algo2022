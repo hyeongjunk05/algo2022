{
  "nbformat": 4,
  "nbformat_minor": 0,
  "metadata": {
    "colab": {
      "name": "leetcode10_2.ipynb",
      "provenance": [],
      "authorship_tag": "ABX9TyOBG3jmru6Iwxo0+pf6TKL7",
      "include_colab_link": true
    },
    "kernelspec": {
      "name": "python3",
      "display_name": "Python 3"
    },
    "language_info": {
      "name": "python"
    }
  },
  "cells": [
    {
      "cell_type": "markdown",
      "metadata": {
        "id": "view-in-github",
        "colab_type": "text"
      },
      "source": [
        "<a href=\"https://colab.research.google.com/github/hyeongjunk05/algo2022/blob/main/leetcode10_2.ipynb\" target=\"_parent\"><img src=\"https://colab.research.google.com/assets/colab-badge.svg\" alt=\"Open In Colab\"/></a>"
      ]
    },
    {
      "cell_type": "code",
      "execution_count": 6,
      "metadata": {
        "id": "hzw9TdHhGYAs"
      },
      "outputs": [],
      "source": [
        "def arrayPairSum(nums: list) -> int:\n",
        "  return sum(sorted(nums)[::2])"
      ]
    },
    {
      "cell_type": "code",
      "source": [
        "arrayPairSum([2,1,3,4])"
      ],
      "metadata": {
        "colab": {
          "base_uri": "https://localhost:8080/"
        },
        "id": "sEGQEofTGw5Y",
        "outputId": "70ea619e-54c0-4e08-9d92-50c02ab3b761"
      },
      "execution_count": 2,
      "outputs": [
        {
          "output_type": "execute_result",
          "data": {
            "text/plain": [
              "4"
            ]
          },
          "metadata": {},
          "execution_count": 2
        }
      ]
    }
  ]
}