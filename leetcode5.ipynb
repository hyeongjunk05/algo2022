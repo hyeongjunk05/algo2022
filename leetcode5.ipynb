{
  "nbformat": 4,
  "nbformat_minor": 0,
  "metadata": {
    "colab": {
      "name": "leetcode5.ipynb",
      "provenance": [],
      "authorship_tag": "ABX9TyNZD+tJWVbywYPrExMfPNG5",
      "include_colab_link": true
    },
    "kernelspec": {
      "name": "python3",
      "display_name": "Python 3"
    },
    "language_info": {
      "name": "python"
    }
  },
  "cells": [
    {
      "cell_type": "markdown",
      "metadata": {
        "id": "view-in-github",
        "colab_type": "text"
      },
      "source": [
        "<a href=\"https://colab.research.google.com/github/hyeongjunk05/algo2022/blob/main/leetcode5.ipynb\" target=\"_parent\"><img src=\"https://colab.research.google.com/assets/colab-badge.svg\" alt=\"Open In Colab\"/></a>"
      ]
    },
    {
      "cell_type": "code",
      "execution_count": 7,
      "metadata": {
        "id": "ysa96q6fWoot"
      },
      "outputs": [],
      "source": [
        "import collections\n",
        "\n",
        "def groupAnagrams(strs: list) -> list:\n",
        "    anagrams = collections.defaultdict(list)\n",
        "    \n",
        "    for word in strs:\n",
        "        anagrams[''.join(sorted(word))].append(word)\n",
        "    return anagrams.values()\n",
        "        "
      ]
    },
    {
      "cell_type": "code",
      "source": [
        "print(groupAnagrams([\"eat\",\"tea\",\"tan\",\"ate\",\"nat\",\"bat\"]))"
      ],
      "metadata": {
        "colab": {
          "base_uri": "https://localhost:8080/"
        },
        "id": "Lbx3v_t6Y_q4",
        "outputId": "16e6351f-40a6-4cb4-b53c-6e461e286aed"
      },
      "execution_count": 8,
      "outputs": [
        {
          "output_type": "stream",
          "name": "stdout",
          "text": [
            "dict_values([['eat', 'tea', 'ate'], ['tan', 'nat'], ['bat']])\n"
          ]
        }
      ]
    }
  ]
}