{
  "nbformat": 4,
  "nbformat_minor": 0,
  "metadata": {
    "colab": {
      "name": "leetcode6.ipynb",
      "provenance": [],
      "authorship_tag": "ABX9TyPhGgC0T9kts0+8kgBjQq5/",
      "include_colab_link": true
    },
    "kernelspec": {
      "name": "python3",
      "display_name": "Python 3"
    },
    "language_info": {
      "name": "python"
    }
  },
  "cells": [
    {
      "cell_type": "markdown",
      "metadata": {
        "id": "view-in-github",
        "colab_type": "text"
      },
      "source": [
        "<a href=\"https://colab.research.google.com/github/hyeongjunk05/algo2022/blob/main/leetcode6.ipynb\" target=\"_parent\"><img src=\"https://colab.research.google.com/assets/colab-badge.svg\" alt=\"Open In Colab\"/></a>"
      ]
    },
    {
      "cell_type": "code",
      "execution_count": 1,
      "metadata": {
        "id": "MPsvvCXWBbdB"
      },
      "outputs": [],
      "source": [
        "\n",
        "def longestPalindrome(s: str) -> str:\n",
        "    def expand(left: int, right: int) -> str:\n",
        "        while left >= 0 and right <= len(s) and s[left] == s[right-1]:\n",
        "            left -= 1\n",
        "            right += 1\n",
        "        return s[left + 1:right -1]\n",
        "    \n",
        "    if len(s) < 2 or s == s[::-1]:\n",
        "        return s\n",
        "    \n",
        "    result = \"\"\n",
        "    for i in range(len(s) - 1):\n",
        "        result = max(result,\n",
        "                    expand(i, i + 1),\n",
        "                    expand(i, i +2),\n",
        "                    key = len)\n",
        "    return result"
      ]
    },
    {
      "cell_type": "code",
      "source": [
        "print(longestPalindrome(\"babad\"))"
      ],
      "metadata": {
        "colab": {
          "base_uri": "https://localhost:8080/"
        },
        "id": "oJXSErbMBnrC",
        "outputId": "dfcd2c62-5782-4b01-b62b-8972a7836b3d"
      },
      "execution_count": 2,
      "outputs": [
        {
          "output_type": "stream",
          "name": "stdout",
          "text": [
            "bab\n"
          ]
        }
      ]
    },
    {
      "cell_type": "code",
      "source": [
        "a = ['cde','cfc','abc']\n",
        "def fn(s):\n",
        "  return s[0], s[-1]\n",
        "\n",
        "print(sorted(a, key=fn))"
      ],
      "metadata": {
        "colab": {
          "base_uri": "https://localhost:8080/"
        },
        "id": "_SWEw9n6xKi_",
        "outputId": "98a78048-c482-4eee-cdd9-6866a60fc8c9"
      },
      "execution_count": null,
      "outputs": [
        {
          "output_type": "stream",
          "name": "stdout",
          "text": [
            "['abc', 'cfc', 'cde']\n"
          ]
        }
      ]
    }
  ]
}